{
 "cells": [
  {
   "cell_type": "code",
   "execution_count": null,
   "metadata": {},
   "outputs": [],
   "source": [
    " >>> \n",
    "        >>> emb.load_smiles_iterable([\"CCO\", \"c1ccccc1\"])\n",
    "        >>> emb.embed_all(n_confs=2, add_hs=True, embed_algorithm=\"ETKDGv3\")\n",
    "        >>> len(emb.mols)\n",
    "        2\n",
    "        >>> emb.conf_counts\n",
    "        [2, 2]"
   ]
  },
  {
   "cell_type": "code",
   "execution_count": 1,
   "metadata": {},
   "outputs": [
    {
     "name": "stderr",
     "output_type": "stream",
     "text": [
      "2025-09-23 13:40:54 | \u001b[32mINFO\u001b[0m | prodock.chem.embed | Embedder: loaded 2 SMILES from iterable\n",
      "2025-09-23 13:40:54 | \u001b[32mINFO\u001b[0m | prodock.chem.embed | Embedder: finished embedding: 2 successes / 2 attempts\n"
     ]
    },
    {
     "data": {
      "text/plain": [
       "2"
      ]
     },
     "execution_count": 1,
     "metadata": {},
     "output_type": "execute_result"
    }
   ],
   "source": [
    "from prodock.chem.embed import Embedder\n",
    "\n",
    "emb = Embedder(seed=123)\n",
    "emb.load_smiles_iterable([\"CCO\", \"c1ccccc1\"])\n",
    "emb.embed_all(n_confs=2, add_hs=True, embed_algorithm=\"ETKDGv3\")\n",
    "len(emb.mols)"
   ]
  },
  {
   "cell_type": "code",
   "execution_count": null,
   "metadata": {},
   "outputs": [],
   "source": [
    "emb.conf_counts"
   ]
  }
 ],
 "metadata": {
  "kernelspec": {
   "display_name": "prodock",
   "language": "python",
   "name": "python3"
  },
  "language_info": {
   "codemirror_mode": {
    "name": "ipython",
    "version": 3
   },
   "file_extension": ".py",
   "mimetype": "text/x-python",
   "name": "python",
   "nbconvert_exporter": "python",
   "pygments_lexer": "ipython3",
   "version": "3.11.0"
  }
 },
 "nbformat": 4,
 "nbformat_minor": 2
}
