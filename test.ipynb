{
 "cells": [
  {
   "cell_type": "code",
   "execution_count": null,
   "metadata": {},
   "outputs": [],
   "source": [
    "from prodock.io.pdb_query import PDBQuery\n",
    "proc = PDBQuery(\"5N2F\", \"Data/testcase\", chains=[\"A\", \"B\"], ligand_code=\"8HW\")\n",
    "proc.run_all()\n",
    "print(\"raw:\", proc.cocrystal_ligand_path)\n",
    "print(\"processed:\", proc.reference_ligand_path)"
   ]
  },
  {
   "cell_type": "code",
   "execution_count": null,
   "metadata": {},
   "outputs": [],
   "source": [
    "from prodock.preprocess.gridbox import GridBox\n",
    "from prodock.vis.provis import ProVis\n",
    "from prodock.vis.provis_gui import ProVisGUI\n"
   ]
  },
  {
   "cell_type": "code",
   "execution_count": null,
   "metadata": {},
   "outputs": [],
   "source": [
    "gb = GridBox().load_ligand(\"Data/testcase/cocrystal/5N2F.sdf\", fmt=\"sdf\") \\\n",
    "              .from_ligand_pad(pad=4.0, isotropic=True)\n",
    "\n",
    "print(\"Box dict for Vina:\", gb.vina_dict)\n",
    "print(\"Box config snippet:\\n\", gb.to_vina_lines())\n"
   ]
  },
  {
   "cell_type": "code",
   "execution_count": null,
   "metadata": {},
   "outputs": [],
   "source": [
    "viz = ProVis(800, 600)\n",
    "viz.load_receptor(\"Data/testcase/filtered_protein/5N2F.pdb\") \\\n",
    "   .set_receptor_style(\"cartoon\", \"white\") \\\n",
    "   .load_ligand(\"Data/testcase/reference_ligand/8HW.sdf\", fmt=\"sdf\") \\\n",
    "   .highlight_ligand(style=\"stick\", color=\"cyan\") \\\n",
    "   .add_gridbox_from(gb, labels=True) \\\n",
    "   .show()\n"
   ]
  },
  {
   "cell_type": "code",
   "execution_count": null,
   "metadata": {},
   "outputs": [],
   "source": [
    "gui = ProVisGUI().build().display()\n"
   ]
  },
  {
   "cell_type": "code",
   "execution_count": null,
   "metadata": {},
   "outputs": [],
   "source": [
    "from prodock.preprocess.protein_process import ProteinProcess\n",
    "\n",
    "pp = ProteinProcess(enable_logging=True)\n",
    "pp.fix_and_minimize_pdb(\n",
    "    input_pdb=\"Data/testcase/filtered_protein/5N2F.pdb\",\n",
    "    output_dir=\"Data/testcase/filtered_protein/\",\n",
    "    energy_diff=10.0,\n",
    "    max_minimization_steps=5000,\n",
    "    pdb_id=\"5N2F\",\n",
    "    protein_name=\"5N2F\",\n",
    "    minimize_in_water=False,\n",
    "    input_ligand='Data/testcase/reference_ligand/8HW.sdf',\n",
    "    out_fmt=\"gpf\",   # default; will produce Data/testcase/filtered_protein/5N2F_min.pdb\n",
    ")\n",
    "\n",
    "# print(\"Artifact:\", pp.final_pdb_path)\n",
    "print(\"Report:\", pp.last_simulation_report)\n"
   ]
  },
  {
   "cell_type": "code",
   "execution_count": null,
   "metadata": {},
   "outputs": [],
   "source": [
    "from prodock.io.convert import Converter\n",
    "conv = Converter().set_input(\"Data/testcase/reference_ligand/8HW.sdf\").set_output(\"Data/testcase/reference_ligand/8HW.pdbqt\").set_mode(\"ligand\").use_meeko().run()\n",
    "print(\"output:\", conv.output)\n",
    "print(\"requested mode:\", conv._mode)        # 'ligand'\n",
    "print(\"preferred backend:\", conv._prefer)  # 'meeko' (because you called use_meeko())\n"
   ]
  },
  {
   "cell_type": "code",
   "execution_count": null,
   "metadata": {},
   "outputs": [],
   "source": [
    "from prodock.engine.vina import VinaDock"
   ]
  },
  {
   "cell_type": "code",
   "execution_count": null,
   "metadata": {},
   "outputs": [],
   "source": [
    "vd = (VinaDock(sf_name=\"vina\", cpu=4, seed=42)\n",
    "      .set_receptor(\"Data/testcase/filtered_protein/5N2F.pdbqt\")\n",
    "      .define_box(center=(32.5, 13.0, 133.75), size=(22.5, 23.5, 22.5))\n",
    ")\n",
    "\n",
    "# single ligand\n",
    "vd.set_ligand(\"Data/testcase/reference_ligand/8HW.pdbqt\").dock(exhaustiveness=8, n_poses=9).write_poses(\"./Data/testcase/vina/vina_out.pdbqt\").write_log(\"./Data/testcase/vina/log.txt\")\n",
    "print(\"scores:\", vd.scores)\n",
    "print(\"best:\", vd.get_best())\n"
   ]
  },
  {
   "cell_type": "code",
   "execution_count": null,
   "metadata": {},
   "outputs": [],
   "source": [
    "from prodock.engine.binary import BinaryDock"
   ]
  },
  {
   "cell_type": "code",
   "execution_count": null,
   "metadata": {},
   "outputs": [],
   "source": [
    "bd = (\n",
    "    BinaryDock(\"qvina-w\")\n",
    "    .set_receptor(\"5N2F.pdbqt\")\n",
    "    .set_ligand(\"8HW.pdbqt\")\n",
    "    .set_out(\"docked/8HW_docked.pdbqt\")\n",
    "    .set_log(\"docked/8HW.log\")\n",
    "    .set_box( center=(32.500, 13.0, 133.750), size=(22.500, 23.500, 22.500))\n",
    "    # .enable_autobox(\"Data/testcase/reference_ligand/8HW.sdf\", padding=4.0)\n",
    "    .set_exhaustiveness(2)\n",
    "    .set_num_modes(9)\n",
    "    .set_cpu(4)\n",
    "    .set_seed(42)\n",
    "    .run()\n",
    ")\n",
    "# parse rows\n",
    "rows = bd.parse_scores_from_log(\"docked/8HW.log\")\n",
    "print(rows)\n",
    "# write CSV\n",
    "bd.scores_to_csv(\"docked/8HW.log\", \"docked/8HW_scores.csv\")\n",
    "# get pandas DataFrame (requires pandas)\n",
    "df = bd.scores_as_dataframe(\"docked/8HW.log\")\n",
    "print(df)\n"
   ]
  },
  {
   "cell_type": "code",
   "execution_count": null,
   "metadata": {},
   "outputs": [],
   "source": [
    "from prodock.io.rdkit_io import smiles2sdf\n",
    "smiles2sdf(\"c1ccccc1\", \"test.sdf\", embed3d=True, add_hs=True, optimize=True)"
   ]
  },
  {
   "cell_type": "code",
   "execution_count": null,
   "metadata": {},
   "outputs": [],
   "source": []
  },
  {
   "cell_type": "code",
   "execution_count": 1,
   "metadata": {},
   "outputs": [
    {
     "name": "stderr",
     "output_type": "stream",
     "text": [
      "2025-08-27 15:10:42 | \u001b[32mINFO\u001b[0m | rdkit | Enabling RDKit 2025.03.5 jupyter extensions\n",
      "2025-08-27 15:10:42 | \u001b[32mINFO\u001b[0m | prodock.chem.embed | Embedder: loaded 1 SMILES from iterable\n",
      "2025-08-27 15:10:42 | \u001b[32mINFO\u001b[0m | prodock.chem.embed | Embedder: finished embedding: 1 successes / 1 attempts\n",
      "2025-08-27 15:10:42 | \u001b[32mINFO\u001b[0m | prodock.chem.conformer | ConformerManager: embedded 1 / 1 molecules\n",
      "2025-08-27 15:10:42 | \u001b[32mINFO\u001b[0m | prodock.chem.optimize | Optimizer: loaded 1 MolBlocks for optimization\n",
      "2025-08-27 15:10:42 | \u001b[32mINFO\u001b[0m | prodock.chem.optimize | Optimizer: finished optimization: 1 succeeded\n",
      "2025-08-27 15:10:42 | \u001b[32mINFO\u001b[0m | prodock.chem.conformer | ConformerManager: optimized 1 molecules\n",
      "2025-08-27 15:10:42 | \u001b[32mINFO\u001b[0m | prodock.ligand.process | Processed record 0 (ethanol) -> out/ethanol.sdf\n",
      "2025-08-27 15:10:42 | \u001b[32mINFO\u001b[0m | prodock.chem.embed | Embedder: loaded 1 SMILES from iterable\n",
      "2025-08-27 15:10:42 | \u001b[32mINFO\u001b[0m | prodock.chem.embed | Embedder: finished embedding: 1 successes / 1 attempts\n",
      "2025-08-27 15:10:42 | \u001b[32mINFO\u001b[0m | prodock.chem.conformer | ConformerManager: embedded 1 / 1 molecules\n",
      "2025-08-27 15:10:42 | \u001b[32mINFO\u001b[0m | prodock.chem.optimize | Optimizer: loaded 1 MolBlocks for optimization\n",
      "2025-08-27 15:10:42 | \u001b[32mINFO\u001b[0m | prodock.chem.optimize | Optimizer: finished optimization: 1 succeeded\n",
      "2025-08-27 15:10:42 | \u001b[32mINFO\u001b[0m | prodock.chem.conformer | ConformerManager: optimized 1 molecules\n",
      "2025-08-27 15:10:42 | \u001b[32mINFO\u001b[0m | prodock.ligand.process | Processed record 1 (benzene) -> out/benzene.sdf\n"
     ]
    },
    {
     "data": {
      "text/plain": [
       "<LigandProcess: 2 entries, ok=2, failed=0>"
      ]
     },
     "execution_count": 1,
     "metadata": {},
     "output_type": "execute_result"
    }
   ],
   "source": [
    "from prodock.process.ligand import LigandProcess \n",
    "\n",
    "rows = [{\"smiles\": \"CCO\", \"name\": \"ethanol\"},\n",
    "       {\"smiles\": \"c1ccccc1\", \"name\": \"benzene\"}]\n",
    "\n",
    "lp = LigandProcess(output_dir='out', name_key=\"name\")\n",
    "lp.from_list_of_dicts(rows)\n",
    "lp.set_embed_method(\"ETKDGv3\").set_opt_method(\"MMFF94s\")\n",
    "lp.process_all()"
   ]
  }
 ],
 "metadata": {
  "kernelspec": {
   "display_name": "prodock",
   "language": "python",
   "name": "python3"
  },
  "language_info": {
   "codemirror_mode": {
    "name": "ipython",
    "version": 3
   },
   "file_extension": ".py",
   "mimetype": "text/x-python",
   "name": "python",
   "nbconvert_exporter": "python",
   "pygments_lexer": "ipython3",
   "version": "3.11.0"
  }
 },
 "nbformat": 4,
 "nbformat_minor": 2
}
